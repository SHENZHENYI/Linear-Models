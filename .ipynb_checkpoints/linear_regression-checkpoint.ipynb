{
 "cells": [
  {
   "cell_type": "markdown",
   "id": "e185d2e1",
   "metadata": {},
   "source": [
    "# Linear Neural Networks"
   ]
  },
  {
   "cell_type": "markdown",
   "id": "071267bd",
   "metadata": {},
   "source": [
    "This notebook is a note for myself to summarize my understanding of linear regression after reading d2l book and my prior experience in deep learning."
   ]
  },
  {
   "cell_type": "code",
   "execution_count": 22,
   "id": "4bd1ee42",
   "metadata": {},
   "outputs": [],
   "source": [
    "import torch\n",
    "import matplotlib.pyplot as plt"
   ]
  },
  {
   "cell_type": "markdown",
   "id": "41713d70",
   "metadata": {},
   "source": [
    "## Linear Model"
   ]
  },
  {
   "cell_type": "markdown",
   "id": "97740e69",
   "metadata": {},
   "source": [
    "Linear regression is a method to model the linear relationship between a set of independent variables (noted as $\\mathbf{x}$) and one dependent variable (noted as $y$). The general formula is shown below."
   ]
  },
  {
   "cell_type": "markdown",
   "id": "07261b89",
   "metadata": {},
   "source": [
    "$$\\hat{y} = \\mathbf{w}^{T} \\mathbf{x} + b$$"
   ]
  },
  {
   "cell_type": "code",
   "execution_count": 165,
   "id": "9515f6a4",
   "metadata": {},
   "outputs": [],
   "source": [
    "def get_weights(n_feat):\n",
    "    '''define the linear model'''\n",
    "    w = torch.normal(0, 0.01, size=(2,1), requires_grad=True)\n",
    "    b = torch.zeros((1), requires_grad=True)\n",
    "    return w, b\n",
    "\n",
    "def linear_regression(x, w, b):\n",
    "    '''linear regression operation'''\n",
    "    return x @ w + b"
   ]
  },
  {
   "cell_type": "markdown",
   "id": "967fb215",
   "metadata": {},
   "source": [
    "$\\mathbf{w}$ are weights and b is the bias. Weights are responsible for assigning the relative importance of the corresponding features, while the bias gives a predicted value when all features are set 0 (if we normalize the features, it may imply the expectation, or you may also think of it as the addition of the expressiveness of the model, from a linear transformatiioin to affine transformation)"
   ]
  },
  {
   "cell_type": "markdown",
   "id": "1db2a5bd",
   "metadata": {},
   "source": [
    "Many mapping may not be as easy as linear, even though the underlying mapping is indeed linear, due to some noises like measurement errors, we may not be able to come up with a model that fits the training data perfectly."
   ]
  },
  {
   "cell_type": "markdown",
   "id": "b64f94fe",
   "metadata": {},
   "source": [
    "Until now, all we are talking about is the model itself -- the architecture. Besides that, we will need to have a searching algorithm to help us find the parameters of the model  ($\\mathbf{w}$ and $b$) that could best fit the traininig data."
   ]
  },
  {
   "cell_type": "markdown",
   "id": "ee42bced",
   "metadata": {},
   "source": [
    "we will have several choices to have those parameters, the most naive way is the exhaustively search for all possible combiniations of parameters, from -n to n with a step size of n. Another way, and the way we will adopt, is to take advantage of calculus: finding the gradient of the weights with respect to the loss, and change the parameters corresponding to the direction of the gradients."
   ]
  },
  {
   "cell_type": "markdown",
   "id": "3950312b",
   "metadata": {},
   "source": [
    "## Loss Function"
   ]
  },
  {
   "cell_type": "markdown",
   "id": "494308df",
   "metadata": {},
   "source": [
    "Before we are heading to find the best fit parameters, we need to first define a loss function which measures the goodness and badness of our current predictions."
   ]
  },
  {
   "cell_type": "markdown",
   "id": "dd9a25e5",
   "metadata": {},
   "source": [
    "Loss function is chosen to be l2 as shown below (1/2 is for the ease of derivative). Intuitively, we need a distance metric the define to measure the deviation between the predicted values and the groundtruth values. To our best knowledge, mean sqaured distance (aka L2) or mean absolute distance (aka L1) may have a good try just like what we may use them in Euclidean space. Mathematically, minimizing the MSE (mean square error -- L2) is the maximum likelihood estimation of a linear model under the assumptino of additive Gaussian noise."
   ]
  },
  {
   "cell_type": "markdown",
   "id": "492119b6",
   "metadata": {},
   "source": [
    "$$L2(\\mathbf{w}, b) = \\sum^{N}_{n=1} \\frac{1}{2} (\\hat{y}_n - y_n)^2$$"
   ]
  },
  {
   "cell_type": "code",
   "execution_count": 153,
   "id": "3b4cd7fd",
   "metadata": {},
   "outputs": [],
   "source": [
    "def l2_loss(y_hat, y):\n",
    "    '''l2 loss function'''\n",
    "    return ((y_hat-y)**2)/2"
   ]
  },
  {
   "cell_type": "markdown",
   "id": "98478905",
   "metadata": {},
   "source": [
    "## Learning algorithm"
   ]
  },
  {
   "cell_type": "markdown",
   "id": "8173de3f",
   "metadata": {},
   "source": [
    "Learning algorithm is to find the better parameters of the model based on the current evalution. Gradient descent is the norm to use in deep learning: update the parameters of the model in a way that all of them go in the opposite direction of the gradients with respect to the loss. The step size, $\\eta$, of each update is uniform to all parameters in the naive gradient descent algorithm, and is called as 'learning rate'."
   ]
  },
  {
   "cell_type": "markdown",
   "id": "249da560",
   "metadata": {},
   "source": [
    "$$w = w - \\eta * \\frac{\\partial L2}{\\partial w}$$"
   ]
  },
  {
   "cell_type": "markdown",
   "id": "fafcef88",
   "metadata": {},
   "source": [
    "$$b = b - \\eta * \\frac{\\partial L2}{\\partial b}$$"
   ]
  },
  {
   "cell_type": "markdown",
   "id": "2e7582c6",
   "metadata": {},
   "source": [
    "Gradient Descent was to update the parameters after calculating the loss of the entire dataset, but it is found that if we update the parameters once a small batch of the training data (like 32 samples), the training process can be largely accelerated and able to achieve better accuracy. This method is called as Minibatch Stochastic Gradient Descent (SGD), and is the norm to use in deep learning."
   ]
  },
  {
   "cell_type": "code",
   "execution_count": 160,
   "id": "07ff0254",
   "metadata": {},
   "outputs": [],
   "source": [
    "def sgd(params, lr, batchsize):\n",
    "    '''stochastic gradient descent'''\n",
    "    with torch.no_grad():\n",
    "        for param in params:\n",
    "            param -= lr * param.grad / batchsize\n",
    "            param.grad.zero_()"
   ]
  },
  {
   "cell_type": "markdown",
   "id": "5e64ba41",
   "metadata": {},
   "source": [
    "## Get some data"
   ]
  },
  {
   "cell_type": "markdown",
   "id": "bc702ea3",
   "metadata": {},
   "source": [
    "To test the effectiveness of our model, we will train our model on a synthesized data ($y = wX + b + noise$). Then we can compare the $w$ ad $b$ between the groundtruth and trained easily."
   ]
  },
  {
   "cell_type": "code",
   "execution_count": 144,
   "id": "75cd4e9a",
   "metadata": {
    "scrolled": true
   },
   "outputs": [
    {
     "data": {
      "text/plain": [
       "<matplotlib.collections.PathCollection at 0x7fb80b0f5a00>"
      ]
     },
     "execution_count": 144,
     "metadata": {},
     "output_type": "execute_result"
    },
    {
     "data": {
      "image/png": "[encoded data removed]",
      "text/plain": [
       "<Figure size 432x288 with 1 Axes>"
      ]
     },
     "metadata": {
      "needs_background": "light"
     },
     "output_type": "display_data"
    }
   ],
   "source": [
    "def get_syn_data(w, b, n_samples):\n",
    "    '''y = Xw + b + noise'''\n",
    "    X = torch.normal(0, 1, (n_samples, len(w)))\n",
    "    y = X @ w + b\n",
    "    y += torch.normal(0, 0.01, y.shape)\n",
    "    return X, y.reshape(-1, 1)\n",
    "\n",
    "true_w = torch.tensor([2, -3.4])\n",
    "true_b = 4.2\n",
    "feats, labels = get_syn_data(true_w, true_b, 1000)\n",
    "plt.scatter(feats[:, 1], labels, s=5)"
   ]
  },
  {
   "cell_type": "code",
   "execution_count": 136,
   "id": "82d5317f",
   "metadata": {},
   "outputs": [],
   "source": [
    "def get_minibatch(batchsize, feats, labels, shuffle=True):\n",
    "    '''\n",
    "    get the minibatch of training data each time. support shuffling \n",
    "    return a iterable with the number of batchsize for each iterations\n",
    "    '''\n",
    "    n_samples = len(labels)\n",
    "    indices = list(range(n_samples))\n",
    "    if shuffle:\n",
    "        np.random.shuffle(indices)\n",
    "    for i in range(0, n_samples, batchsize):\n",
    "        batch_indices = torch.tensor(\n",
    "            indices[i: min(i+batchsize, n_samples)]) # integer multiple of the batchsize may not equal the len of the training data\n",
    "        yield feats[batch_indices], labels[batch_indices]"
   ]
  },
  {
   "cell_type": "code",
   "execution_count": 137,
   "id": "536ecf4e",
   "metadata": {},
   "outputs": [
    {
     "name": "stdout",
     "output_type": "stream",
     "text": [
      "(tensor([[-0.1722,  0.6830],\n",
      "        [ 0.8459,  0.9167],\n",
      "        [ 1.8074, -0.8012],\n",
      "        [-0.0305,  1.5387],\n",
      "        [-0.4499,  0.5853],\n",
      "        [ 0.7169, -0.7859],\n",
      "        [ 1.4405,  1.2300],\n",
      "        [-1.2647,  0.1008]]), tensor([[ 1.5383],\n",
      "        [ 2.7726],\n",
      "        [10.5319],\n",
      "        [-1.1034],\n",
      "        [ 1.3013],\n",
      "        [ 8.3219],\n",
      "        [ 2.9111],\n",
      "        [ 1.3192]]))\n"
     ]
    }
   ],
   "source": [
    "# show the minibatch in one iteration\n",
    "print(next(get_minibatch(8, feats, labels)))"
   ]
  },
  {
   "cell_type": "markdown",
   "id": "4e353a9a",
   "metadata": {},
   "source": [
    "## Train and Evaluation"
   ]
  },
  {
   "cell_type": "code",
   "execution_count": 172,
   "id": "678b423e",
   "metadata": {},
   "outputs": [
    {
     "name": "stdout",
     "output_type": "stream",
     "text": [
      "epoch1: loss=0.03420377895236015, w=tensor([[ 1.8727],\n",
      "        [-3.2790]], requires_grad=True), b=tensor([4.0072], requires_grad=True)\n",
      "epoch2: loss=0.00013291787763591856, w=tensor([[ 1.9928],\n",
      "        [-3.3970]], requires_grad=True), b=tensor([4.1905], requires_grad=True)\n",
      "epoch3: loss=5.167185008758679e-05, w=tensor([[ 1.9997],\n",
      "        [-3.4006]], requires_grad=True), b=tensor([4.2000], requires_grad=True)\n"
     ]
    }
   ],
   "source": [
    "lr = 0.03\n",
    "n_epochs = 3\n",
    "batchsize = 10\n",
    "net = linear_regression\n",
    "loss_fn = l2_loss\n",
    "\n",
    "\n",
    "# get data\n",
    "true_w = torch.tensor([2, -3.4]) # groundtruth weights\n",
    "true_b = 4.2 # groundtruth bias\n",
    "feats, labels = get_syn_data(true_w, true_b, 1000)\n",
    "\n",
    "#get weights\n",
    "w, b = get_weights(2)\n",
    "\n",
    "#train\n",
    "for epoch in range(n_epochs):\n",
    "    for x, y in get_minibatch(batchsize, feats, labels):\n",
    "        y_hat = net(x, w, b) # prediction\n",
    "        loss = loss_fn(y_hat, y).sum() # calculate the loss\n",
    "        loss.backward() # backprop\n",
    "        sgd([w, b], lr, batchsize) # update the parameters\n",
    "    with torch.no_grad():\n",
    "        train_loss = loss_fn(net(feats, w, b),  labels)\n",
    "        print(f'epoch{epoch+1}: loss={train_loss.mean()}, w={w}, b={b}')"
   ]
  },
  {
   "cell_type": "markdown",
   "id": "3382bb4c",
   "metadata": {},
   "source": [
    "# "
   ]
  }
 ],
 "metadata": {
  "kernelspec": {
   "display_name": "dl",
   "language": "python",
   "name": "dl"
  },
  "language_info": {
   "codemirror_mode": {
    "name": "ipython",
    "version": 3
   },
   "file_extension": ".py",
   "mimetype": "text/x-python",
   "name": "python",
   "nbconvert_exporter": "python",
   "pygments_lexer": "ipython3",
   "version": "3.8.13"
  }
 },
 "nbformat": 4,
 "nbformat_minor": 5
}
